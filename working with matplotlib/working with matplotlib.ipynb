{
 "cells": [
  {
   "cell_type": "code",
   "execution_count": null,
   "id": "cd6002ac-33be-41d1-a6bf-7508397505ed",
   "metadata": {},
   "outputs": [],
   "source": [
    "from matplotlib.pyplot import plot,show\n",
    "import numpy as np\n",
    "\n",
    "x = np.array([2,1,3,7,5,9,6,13])\n",
    "y = np.array([8,1,7,3,9,11,5,14])\n",
    "\n",
    "print(x)\n",
    "print(y)\n",
    "\n",
    "plot(x,y,'x:r',mec='magenta',mfc='indigo')\n",
    "show()"
   ]
  }
 ],
 "metadata": {
  "kernelspec": {
   "display_name": "Python 3 (ipykernel)",
   "language": "python",
   "name": "python3"
  },
  "language_info": {
   "codemirror_mode": {
    "name": "ipython",
    "version": 3
   },
   "file_extension": ".py",
   "mimetype": "text/x-python",
   "name": "python",
   "nbconvert_exporter": "python",
   "pygments_lexer": "ipython3",
   "version": "3.12.7"
  }
 },
 "nbformat": 4,
 "nbformat_minor": 5
}
