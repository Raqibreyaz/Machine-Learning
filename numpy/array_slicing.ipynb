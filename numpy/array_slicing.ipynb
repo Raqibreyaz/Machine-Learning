{
 "cells": [
  {
   "cell_type": "code",
   "execution_count": 8,
   "id": "7f26ec00-4a4c-45fa-916a-ea7bfaf4472f",
   "metadata": {},
   "outputs": [],
   "source": [
    "import numpy as np"
   ]
  },
  {
   "cell_type": "markdown",
   "id": "05717178-b9c6-4f2e-b7cf-49d4514f28a7",
   "metadata": {},
   "source": [
    "## Numpy Slicing of Vectors"
   ]
  },
  {
   "cell_type": "code",
   "execution_count": 6,
   "id": "470bb5a0-d7d8-458b-81a9-39328d4d4f15",
   "metadata": {},
   "outputs": [
    {
     "data": {
      "text/plain": [
       "array([ 1,  2,  3,  4,  5,  6,  7,  8,  9, 10])"
      ]
     },
     "execution_count": 6,
     "metadata": {},
     "output_type": "execute_result"
    }
   ],
   "source": [
    "arr = np.arange(1,11)\n",
    "arr"
   ]
  },
  {
   "cell_type": "code",
   "execution_count": 4,
   "id": "d73a3a2d-0bdb-4173-bf18-a9200b4b834a",
   "metadata": {},
   "outputs": [
    {
     "data": {
      "text/plain": [
       "array([4, 5, 6])"
      ]
     },
     "execution_count": 4,
     "metadata": {},
     "output_type": "execute_result"
    }
   ],
   "source": [
    "arr[3:6]"
   ]
  },
  {
   "cell_type": "code",
   "execution_count": 5,
   "id": "270ecf0a-14c4-42ad-9af4-dfff116e3e1d",
   "metadata": {},
   "outputs": [
    {
     "data": {
      "text/plain": [
       "array([ 4,  6,  8, 10])"
      ]
     },
     "execution_count": 5,
     "metadata": {},
     "output_type": "execute_result"
    }
   ],
   "source": [
    "# no of steps is 2\n",
    "arr[3:10:2]"
   ]
  },
  {
   "cell_type": "markdown",
   "id": "97ed3e81-bddf-4e20-8bca-6ea55f23f1b7",
   "metadata": {},
   "source": [
    "## Numpy Indexing and Slicing of Matrix"
   ]
  },
  {
   "cell_type": "code",
   "execution_count": 10,
   "id": "02897713-c649-493e-9401-08d2d922c2fd",
   "metadata": {},
   "outputs": [
    {
     "data": {
      "text/plain": [
       "array([[ 1,  2,  3,  4,  5],\n",
       "       [ 6,  7,  8,  9, 10],\n",
       "       [11, 12, 13, 14, 15],\n",
       "       [16, 17, 18, 19, 20],\n",
       "       [21, 22, 23, 24, 25],\n",
       "       [26, 27, 28, 29, 30]])"
      ]
     },
     "execution_count": 10,
     "metadata": {},
     "output_type": "execute_result"
    }
   ],
   "source": [
    "arr = np.arange(1,31).reshape(6,5)\n",
    "arr"
   ]
  },
  {
   "cell_type": "markdown",
   "id": "8e1e5d41-c76b-4807-9300-6d96a32703d2",
   "metadata": {},
   "source": [
    "### Slicing a Diagonal Portion, [[2,3],[7,8]]"
   ]
  },
  {
   "cell_type": "code",
   "execution_count": 11,
   "id": "a126d779-4ba7-4957-8ea5-5915ecfb1eda",
   "metadata": {},
   "outputs": [
    {
     "data": {
      "text/plain": [
       "array([[2, 3],\n",
       "       [7, 8]])"
      ]
     },
     "execution_count": 11,
     "metadata": {},
     "output_type": "execute_result"
    }
   ],
   "source": [
    "slice = arr[0:2,1:3]\n",
    "slice"
   ]
  },
  {
   "cell_type": "markdown",
   "id": "f6f67e55-c668-4972-8c5f-a9d5d6fa41c3",
   "metadata": {},
   "source": [
    "### For getting a Specific Column, [2,7,12,17,22,27]"
   ]
  },
  {
   "cell_type": "code",
   "execution_count": 13,
   "id": "c7c7ea36-84ba-4db5-8dc8-f6f1e83ac171",
   "metadata": {},
   "outputs": [
    {
     "data": {
      "text/plain": [
       "array([ 2,  7, 12, 17, 22, 27])"
      ]
     },
     "execution_count": 13,
     "metadata": {},
     "output_type": "execute_result"
    }
   ],
   "source": [
    "arr[:,1]"
   ]
  },
  {
   "cell_type": "code",
   "execution_count": 19,
   "id": "1222741b-e1d2-4deb-9457-51fae255ff77",
   "metadata": {},
   "outputs": [],
   "source": [
    "arr = np.arange(1,31)"
   ]
  },
  {
   "cell_type": "markdown",
   "id": "1e0c97b7-9801-4158-b824-b20f8d4d7344",
   "metadata": {},
   "source": [
    "### Taking only Even Numbers (Boolean Indexing)"
   ]
  },
  {
   "cell_type": "code",
   "execution_count": 20,
   "id": "3a84b8f0-297d-40f0-a271-3778a3cc070a",
   "metadata": {},
   "outputs": [
    {
     "data": {
      "text/plain": [
       "array([ 2,  4,  6,  8, 10, 12, 14, 16, 18, 20, 22, 24, 26, 28, 30])"
      ]
     },
     "execution_count": 20,
     "metadata": {},
     "output_type": "execute_result"
    }
   ],
   "source": [
    "arr[ arr % 2 == 0 ]"
   ]
  },
  {
   "cell_type": "code",
   "execution_count": null,
   "id": "6dc4cca2-ac7a-409b-b67f-408d32ab3f4b",
   "metadata": {},
   "outputs": [],
   "source": []
  }
 ],
 "metadata": {
  "kernelspec": {
   "display_name": "Python 3 (ipykernel)",
   "language": "python",
   "name": "python3"
  },
  "language_info": {
   "codemirror_mode": {
    "name": "ipython",
    "version": 3
   },
   "file_extension": ".py",
   "mimetype": "text/x-python",
   "name": "python",
   "nbconvert_exporter": "python",
   "pygments_lexer": "ipython3",
   "version": "3.13.5"
  }
 },
 "nbformat": 4,
 "nbformat_minor": 5
}
