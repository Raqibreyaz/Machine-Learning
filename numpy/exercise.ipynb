{
 "cells": [
  {
   "cell_type": "code",
   "execution_count": 36,
   "id": "0658ce4e-8fd7-47d2-83c3-4a121a38bb00",
   "metadata": {},
   "outputs": [],
   "source": [
    "import numpy as np\n",
    "\n",
    "# columns: [age,maths_marks,science_marks]\n",
    "data = np.array([\n",
    "    [18,85,78],\n",
    "    [19,92,88],\n",
    "    [17,76,95],\n",
    "    [18,65,70],\n",
    "    [20,90,85]\n",
    "])"
   ]
  },
  {
   "cell_type": "code",
   "execution_count": 3,
   "id": "7addbbb9-8c10-497b-a34f-50df9d08aea0",
   "metadata": {},
   "outputs": [
    {
     "data": {
      "text/plain": [
       "(5, 3)"
      ]
     },
     "execution_count": 3,
     "metadata": {},
     "output_type": "execute_result"
    }
   ],
   "source": [
    "data.shape"
   ]
  },
  {
   "cell_type": "code",
   "execution_count": 5,
   "id": "adce121f-047a-403c-934c-e298d457436c",
   "metadata": {},
   "outputs": [
    {
     "data": {
      "text/plain": [
       "np.float64(18.4)"
      ]
     },
     "execution_count": 5,
     "metadata": {},
     "output_type": "execute_result"
    }
   ],
   "source": [
    "# average age of students\n",
    "np.mean(data[:,0])"
   ]
  },
  {
   "cell_type": "code",
   "execution_count": 7,
   "id": "9ad6ae03-eb06-491b-ae19-b1e337d35215",
   "metadata": {},
   "outputs": [
    {
     "data": {
      "text/plain": [
       "array([85, 92, 76, 65, 90])"
      ]
     },
     "execution_count": 7,
     "metadata": {},
     "output_type": "execute_result"
    }
   ],
   "source": [
    "# extract maths marks of all students\n",
    "data[:,1]"
   ]
  },
  {
   "cell_type": "code",
   "execution_count": 8,
   "id": "13df1ffe-dd22-41b8-837f-4f979a9dbadc",
   "metadata": {},
   "outputs": [
    {
     "data": {
      "text/plain": [
       "np.int64(95)"
      ]
     },
     "execution_count": 8,
     "metadata": {},
     "output_type": "execute_result"
    }
   ],
   "source": [
    "# find the highest science mark\n",
    "np.max(data[:,2])"
   ]
  },
  {
   "cell_type": "code",
   "execution_count": 10,
   "id": "6b0c9b0b-e7f5-41e9-91b8-4c08a63417e0",
   "metadata": {},
   "outputs": [
    {
     "data": {
      "text/plain": [
       "array([[19, 92, 88]])"
      ]
     },
     "execution_count": 10,
     "metadata": {},
     "output_type": "execute_result"
    }
   ],
   "source": [
    "# get details of the student who scored > 90 in maths\n",
    "data[data[:,1] > 90]"
   ]
  },
  {
   "cell_type": "code",
   "execution_count": 37,
   "id": "d8c60344-a5f3-48e6-935b-20c9dfa225ed",
   "metadata": {},
   "outputs": [
    {
     "data": {
      "text/plain": [
       "array([[18, 90, 78],\n",
       "       [19, 97, 88],\n",
       "       [17, 81, 95],\n",
       "       [18, 70, 70],\n",
       "       [20, 95, 85]])"
      ]
     },
     "execution_count": 37,
     "metadata": {},
     "output_type": "execute_result"
    }
   ],
   "source": [
    "# increase Maths marks of all students by 5\n",
    "data[:,1] += 5\n",
    "data"
   ]
  },
  {
   "cell_type": "code",
   "execution_count": 19,
   "id": "ef174c76-12cf-41c0-bd16-f9a85682da10",
   "metadata": {},
   "outputs": [
    {
     "data": {
      "text/plain": [
       "3"
      ]
     },
     "execution_count": 19,
     "metadata": {},
     "output_type": "execute_result"
    }
   ],
   "source": [
    "# find how many students are younger than 19\n",
    "len(data[data[:,0] < 19])"
   ]
  },
  {
   "cell_type": "code",
   "execution_count": 20,
   "id": "f4caa967-72f7-41e9-8855-032123571706",
   "metadata": {},
   "outputs": [
    {
     "data": {
      "text/plain": [
       "array([86.6, 83.2])"
      ]
     },
     "execution_count": 20,
     "metadata": {},
     "output_type": "execute_result"
    }
   ],
   "source": [
    "# Calculate the average marks in each subject(Column-wise mean)\n",
    "np.mean(data[:,1:],axis = 0)"
   ]
  },
  {
   "cell_type": "code",
   "execution_count": 29,
   "id": "71a25e5e-2351-4076-83ef-6556a9ebd753",
   "metadata": {},
   "outputs": [
    {
     "data": {
      "text/plain": [
       "array([[19, 97, 88],\n",
       "       [17, 81, 95],\n",
       "       [20, 95, 85]])"
      ]
     },
     "execution_count": 29,
     "metadata": {},
     "output_type": "execute_result"
    }
   ],
   "source": [
    "# Get data of students who scored at least 80 in both subjects\n",
    "data[(data[:,1] >= 80) & (data[:,2] >= 80)]"
   ]
  },
  {
   "cell_type": "code",
   "execution_count": 40,
   "id": "88ff4f08-0923-467a-a645-2d2b74afcac4",
   "metadata": {},
   "outputs": [],
   "source": [
    "# Replace all Science Marks < 75 with 0\n",
    "# science_marks = data[:,2]\n",
    "# science_marks[data[:,2] < 75] = 0\n",
    "# science_marks\n",
    "\n",
    "data[:,2][data[:,2] < 75] = 0"
   ]
  },
  {
   "cell_type": "code",
   "execution_count": 41,
   "id": "3956e94d-3839-4309-8400-55350fdac7f0",
   "metadata": {},
   "outputs": [
    {
     "data": {
      "text/plain": [
       "array([[18, 90, 78],\n",
       "       [19, 97, 88],\n",
       "       [17, 81, 95],\n",
       "       [18, 70,  0],\n",
       "       [20, 95, 85]])"
      ]
     },
     "execution_count": 41,
     "metadata": {},
     "output_type": "execute_result"
    }
   ],
   "source": [
    "data"
   ]
  },
  {
   "cell_type": "code",
   "execution_count": null,
   "id": "d62bc3b7-ba1b-47e8-a7cf-a8a2f31a5007",
   "metadata": {},
   "outputs": [],
   "source": []
  }
 ],
 "metadata": {
  "kernelspec": {
   "display_name": "Python 3 (ipykernel)",
   "language": "python",
   "name": "python3"
  },
  "language_info": {
   "codemirror_mode": {
    "name": "ipython",
    "version": 3
   },
   "file_extension": ".py",
   "mimetype": "text/x-python",
   "name": "python",
   "nbconvert_exporter": "python",
   "pygments_lexer": "ipython3",
   "version": "3.13.5"
  }
 },
 "nbformat": 4,
 "nbformat_minor": 5
}
