{
 "cells": [
  {
   "cell_type": "code",
   "execution_count": 1,
   "id": "51aab15d-67e0-4831-836a-959c9371098e",
   "metadata": {},
   "outputs": [],
   "source": [
    "import pandas as pd\n",
    "import numpy as np\n",
    "import sqlite3 as sql\n",
    "\n",
    "conn = sql.connect('my_db.db')\n",
    "cursor = conn.cursor()\n",
    "\n",
    "# fetching employees data with required columns\n",
    "df = pd.read_csv('../employee_data.csv',usecols=['EmpID','FirstName','ADEmail','DOB','State','GenderCode','JobFunctionDescription'])"
   ]
  },
  {
   "cell_type": "code",
   "execution_count": 2,
   "id": "db768f39-adc9-4cb5-96c9-5fb2f24f4b60",
   "metadata": {},
   "outputs": [],
   "source": [
    "# removing duplicates and null values\n",
    "df.drop_duplicates(inplace=True)\n",
    "df.dropna(inplace=True)"
   ]
  },
  {
   "cell_type": "code",
   "execution_count": null,
   "id": "257382f9-cf3c-4b10-8036-e1e1d820fb5c",
   "metadata": {},
   "outputs": [],
   "source": [
    "# deleting the table if it already exists\n",
    "cursor.execute(\"\"\"\n",
    "DROP TABLE IF EXISTS employees\n",
    "\"\"\")\n",
    "\n",
    "# create a table with the required columns\n",
    "cursor.execute(\"\"\"\n",
    "CREATE TABLE IF NOT EXISTS employees (\n",
    "    employee_id INT PRIMARY KEY,\n",
    "    name TEXT NOT NULL,\n",
    "    email TEXT NOT NULL,\n",
    "    dob DATE NOT NULL,\n",
    "    state TEXT NOT NULL,\n",
    "    gender TEXT NOT NULL,\n",
    "    job TEXT NOT NULL\n",
    ")\n",
    "\"\"\")\n",
    "\n",
    "# renaming the columns for simplicity\n",
    "df.rename(columns={'EmpID':\"employee_id\",'FirstName':\"name\",\"ADEmail\":\"email\",\"DOB\":\"dob\",\"State\":\"state\",\"GenderCode\":\"gender\",\"JobFunctionDescription\":\"job\"},inplace=True)\n",
    "\n",
    "data = df.itertuples(index=False,name=None)\n",
    "rows = [tuple(row) for row in data]\n",
    "\n",
    "# bulk inserting the employees data in the database\n",
    "cursor.executemany('''\n",
    "INSERT INTO employees  VALUES(?,?,?,?,?,?,?)\n",
    "''',rows)\n",
    "\n",
    "# save the changes in database\n",
    "conn.commit()\n",
    "\n",
    "# querying the employees data\n",
    "employee_data=cursor.execute(\"\"\"\n",
    "SELECT * FROM employees\n",
    "\"\"\").fetchall()\n",
    "\n",
    "for data in employee_data:\n",
    "  print(data)\n"
   ]
  }
 ],
 "metadata": {
  "kernelspec": {
   "display_name": "Python 3 (ipykernel)",
   "language": "python",
   "name": "python3"
  },
  "language_info": {
   "codemirror_mode": {
    "name": "ipython",
    "version": 3
   },
   "file_extension": ".py",
   "mimetype": "text/x-python",
   "name": "python",
   "nbconvert_exporter": "python",
   "pygments_lexer": "ipython3",
   "version": "3.12.7"
  }
 },
 "nbformat": 4,
 "nbformat_minor": 5
}
